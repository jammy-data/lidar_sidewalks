{
 "cells": [
  {
   "cell_type": "markdown",
   "id": "24d512d5",
   "metadata": {},
   "source": [
    "# Classification of roads"
   ]
  },
  {
   "cell_type": "markdown",
   "id": "1cc42c90",
   "metadata": {},
   "source": [
    "We're going to look into the success of classifying algorithms on the LiDAR data we have with a couple of different techniques"
   ]
  },
  {
   "cell_type": "markdown",
   "id": "15d2aaff",
   "metadata": {},
   "source": [
    "### The following are the list of classifications defined by IFP\n",
    "- 0 not yet classified (nothing done yet)\n",
    "- 1 unclassified (actively marked as nothing)\n",
    "- 2 ground, sidewalk\n",
    "- 3,4,5 vegetation, low(gras) medium(shrubbery) high (trees)\n",
    "- 6 buildings\n",
    "- 8 street furniture\n",
    "- 10 street markings\n",
    "- 11 street, pavement\n",
    "- 12 bike lanes\n",
    "- 13 temporary things(bicycles, trashcans)\n",
    "- 15 cars, trucks"
   ]
  },
  {
   "cell_type": "code",
   "execution_count": 3,
   "id": "1d4f9ae9",
   "metadata": {},
   "outputs": [],
   "source": [
    "import laspy\n",
    "import numpy as np\n",
    "import matplotlib.pyplot as plt     \n",
    "import seaborn as sns\n",
    "import open3d as o3d\n",
    "import pandas as pd\n",
    "from dotenv import load_dotenv\n",
    "import json\n",
    "from upath import UPath\n",
    "import os\n",
    "# Load environment variables from .env file if it exists\n",
    "load_dotenv()\n",
    "\n",
    "sns.set_theme(style=\"whitegrid\")"
   ]
  },
  {
   "cell_type": "code",
   "execution_count": 4,
   "id": "b5fb6249",
   "metadata": {},
   "outputs": [],
   "source": [
    "#Set up the B2Drop pathway\n",
    "B2D_DIR = UPath(os.getenv(\"DATA_DIR_FSSPEC_URI\"),\n",
    "                 base_url= os.getenv(\"DATA_DIR_FSSPEC_BASE_URL\"),\n",
    "                 auth=(os.getenv(\"DATA_DIR_FSSPEC_USER\"),\n",
    "                       os.getenv(\"DATA_DIR_FSSPEC_PASS\"))\n",
    "                    )"
   ]
  },
  {
   "cell_type": "code",
   "execution_count": 5,
   "id": "d316ca5b",
   "metadata": {},
   "outputs": [],
   "source": [
    "def describe_las(las):\n",
    "    print(f\"Point Format: {las.header.point_format}\")\n",
    "    print(f\"Number of Points: {las.header.point_count}\")\n",
    "    print(\"Available Dimensions:\", list(las.point_format.dimension_names))\n",
    "    print(\"Bounding Box:\")\n",
    "    print(f\"  X: {las.header.mins[0]} to {las.header.maxs[0]}\")\n",
    "    print(f\"  Y: {las.header.mins[1]} to {las.header.maxs[1]}\")\n",
    "    print(f\"  Z: {las.header.mins[2]} to {las.header.maxs[2]}\")\n",
    "    print(\"Scale:\", las.header.scales)\n",
    "    print(\"Offset:\", las.header.offsets)\n",
    "    try:\n",
    "        print(\"CRS:\", las.header.parse_crs())\n",
    "    except:\n",
    "        print(\"CRS: Not defined\")"
   ]
  },
  {
   "cell_type": "code",
   "execution_count": null,
   "id": "cdf4eece",
   "metadata": {},
   "outputs": [],
   "source": [
    "import os\n",
    "\n",
    "file_path = B2D_DIR / \"bologna.laz\"\n",
    "#Load in bologna.laz file (may take a while, make sure your VPN/B2DROP connection is active)\n",
    "# Check if file exists\n",
    "if not file_path.exists():\n",
    "    raise FileNotFoundError(f\"File not found: {file_path}\")\n",
    "\n",
    "# Check file size\n",
    "file_size = os.path.getsize(file_path)\n",
    "if file_size == 0:\n",
    "    raise IOError(f\"File exists but is empty — is your VPN/B2DROP connection active?\")\n",
    "\n",
    "print(f\"File found: {file_path} ({file_size:,} bytes)\")\n",
    "\n",
    "# If it passes both checks, safe to load\n",
    "with file_path.open(\"rb\") as f:\n",
    "    las = laspy.read(f)\n"
   ]
  },
  {
   "cell_type": "code",
   "execution_count": 8,
   "id": "72e1d4f2",
   "metadata": {},
   "outputs": [
    {
     "ename": "LazrsError",
     "evalue": "IoError: Failed to use readinto to read bytes",
     "output_type": "error",
     "traceback": [
      "\u001b[31m---------------------------------------------------------------------------\u001b[39m",
      "\u001b[31mLazrsError\u001b[39m                                Traceback (most recent call last)",
      "\u001b[36mCell\u001b[39m\u001b[36m \u001b[39m\u001b[32mIn[8]\u001b[39m\u001b[32m, line 2\u001b[39m\n\u001b[32m      1\u001b[39m \u001b[38;5;28;01mwith\u001b[39;00m (B2D_DIR / \u001b[33m\"\u001b[39m\u001b[33mbologna.laz\u001b[39m\u001b[33m\"\u001b[39m).open(\u001b[33m\"\u001b[39m\u001b[33mrb\u001b[39m\u001b[33m\"\u001b[39m) \u001b[38;5;28;01mas\u001b[39;00m f:\n\u001b[32m----> \u001b[39m\u001b[32m2\u001b[39m     las = \u001b[43mlaspy\u001b[49m\u001b[43m.\u001b[49m\u001b[43mread\u001b[49m\u001b[43m(\u001b[49m\u001b[43mf\u001b[49m\u001b[43m)\u001b[49m\n",
      "\u001b[36mFile \u001b[39m\u001b[32m~/Documents/GitHub/lidar_sidewalks/.venv/lib/python3.11/site-packages/laspy/lib.py:265\u001b[39m, in \u001b[36mread_las\u001b[39m\u001b[34m(source, closefd, laz_backend, decompression_selection, encoding_errors)\u001b[39m\n\u001b[32m    216\u001b[39m \u001b[38;5;250m\u001b[39m\u001b[33;03m\"\"\"Entry point for reading las data in laspy\u001b[39;00m\n\u001b[32m    217\u001b[39m \n\u001b[32m    218\u001b[39m \u001b[33;03mReads the whole file into memory.\u001b[39;00m\n\u001b[32m   (...)\u001b[39m\u001b[32m    256\u001b[39m \u001b[33;03m    The ``encoding_errors`` parameter.\u001b[39;00m\n\u001b[32m    257\u001b[39m \u001b[33;03m\"\"\"\u001b[39;00m\n\u001b[32m    258\u001b[39m \u001b[38;5;28;01mwith\u001b[39;00m open_las(\n\u001b[32m    259\u001b[39m     source,\n\u001b[32m    260\u001b[39m     closefd=closefd,\n\u001b[32m   (...)\u001b[39m\u001b[32m    263\u001b[39m     encoding_errors=encoding_errors,\n\u001b[32m    264\u001b[39m ) \u001b[38;5;28;01mas\u001b[39;00m reader:\n\u001b[32m--> \u001b[39m\u001b[32m265\u001b[39m     \u001b[38;5;28;01mreturn\u001b[39;00m \u001b[43mreader\u001b[49m\u001b[43m.\u001b[49m\u001b[43mread\u001b[49m\u001b[43m(\u001b[49m\u001b[43m)\u001b[49m\n",
      "\u001b[36mFile \u001b[39m\u001b[32m~/Documents/GitHub/lidar_sidewalks/.venv/lib/python3.11/site-packages/laspy/lasreader.py:126\u001b[39m, in \u001b[36mLasReader.read\u001b[39m\u001b[34m(self)\u001b[39m\n\u001b[32m    119\u001b[39m \u001b[38;5;28;01mdef\u001b[39;00m\u001b[38;5;250m \u001b[39m\u001b[34mread\u001b[39m(\u001b[38;5;28mself\u001b[39m) -> LasData:\n\u001b[32m    120\u001b[39m \u001b[38;5;250m    \u001b[39m\u001b[33;03m\"\"\"\u001b[39;00m\n\u001b[32m    121\u001b[39m \u001b[33;03m    Reads all the points that are not read and returns a LasData object\u001b[39;00m\n\u001b[32m    122\u001b[39m \n\u001b[32m    123\u001b[39m \u001b[33;03m    This will also read EVLRS\u001b[39;00m\n\u001b[32m    124\u001b[39m \n\u001b[32m    125\u001b[39m \u001b[33;03m    \"\"\"\u001b[39;00m\n\u001b[32m--> \u001b[39m\u001b[32m126\u001b[39m     points = \u001b[38;5;28;43mself\u001b[39;49m\u001b[43m.\u001b[49m\u001b[43mread_points\u001b[49m\u001b[43m(\u001b[49m\u001b[43m-\u001b[49m\u001b[32;43m1\u001b[39;49m\u001b[43m)\u001b[49m\n\u001b[32m    127\u001b[39m     las_data = LasData(header=\u001b[38;5;28mself\u001b[39m.header, points=points)\n\u001b[32m    129\u001b[39m     shall_read_evlr = (\n\u001b[32m    130\u001b[39m         \u001b[38;5;28mself\u001b[39m.header.version.minor >= \u001b[32m4\u001b[39m\n\u001b[32m    131\u001b[39m         \u001b[38;5;129;01mand\u001b[39;00m \u001b[38;5;28mself\u001b[39m.header.number_of_evlrs > \u001b[32m0\u001b[39m\n\u001b[32m    132\u001b[39m         \u001b[38;5;129;01mand\u001b[39;00m \u001b[38;5;28mself\u001b[39m.evlrs \u001b[38;5;129;01mis\u001b[39;00m \u001b[38;5;28;01mNone\u001b[39;00m\n\u001b[32m    133\u001b[39m     )\n",
      "\u001b[36mFile \u001b[39m\u001b[32m~/Documents/GitHub/lidar_sidewalks/.venv/lib/python3.11/site-packages/laspy/lasreader.py:107\u001b[39m, in \u001b[36mLasReader.read_points\u001b[39m\u001b[34m(self, n)\u001b[39m\n\u001b[32m    103\u001b[39m \u001b[38;5;28;01melse\u001b[39;00m:\n\u001b[32m    104\u001b[39m     n = \u001b[38;5;28mmin\u001b[39m(n, points_left)\n\u001b[32m    106\u001b[39m r = record.PackedPointRecord.from_buffer(\n\u001b[32m--> \u001b[39m\u001b[32m107\u001b[39m     \u001b[38;5;28;43mself\u001b[39;49m\u001b[43m.\u001b[49m\u001b[43mpoint_source\u001b[49m\u001b[43m.\u001b[49m\u001b[43mread_n_points\u001b[49m\u001b[43m(\u001b[49m\u001b[43mn\u001b[49m\u001b[43m)\u001b[49m, \u001b[38;5;28mself\u001b[39m.header.point_format\n\u001b[32m    108\u001b[39m )\n\u001b[32m    109\u001b[39m \u001b[38;5;28;01mif\u001b[39;00m \u001b[38;5;28mlen\u001b[39m(r) < n:\n\u001b[32m    110\u001b[39m     logger.error(\u001b[33mf\u001b[39m\u001b[33m\"\u001b[39m\u001b[33mCould only read \u001b[39m\u001b[38;5;132;01m{\u001b[39;00m\u001b[38;5;28mlen\u001b[39m(r)\u001b[38;5;132;01m}\u001b[39;00m\u001b[33m of the requested \u001b[39m\u001b[38;5;132;01m{\u001b[39;00mn\u001b[38;5;132;01m}\u001b[39;00m\u001b[33m points\u001b[39m\u001b[33m\"\u001b[39m)\n",
      "\u001b[36mFile \u001b[39m\u001b[32m~/Documents/GitHub/lidar_sidewalks/.venv/lib/python3.11/site-packages/laspy/_compression/lazrsbackend.py:92\u001b[39m, in \u001b[36mLazrsPointReader.read_n_points\u001b[39m\u001b[34m(self, n)\u001b[39m\n\u001b[32m     90\u001b[39m \u001b[38;5;28;01mdef\u001b[39;00m\u001b[38;5;250m \u001b[39m\u001b[34mread_n_points\u001b[39m(\u001b[38;5;28mself\u001b[39m, n: \u001b[38;5;28mint\u001b[39m) -> \u001b[38;5;28mbytearray\u001b[39m:\n\u001b[32m     91\u001b[39m     point_bytes = \u001b[38;5;28mbytearray\u001b[39m(n * \u001b[38;5;28mself\u001b[39m.vlr.item_size())\n\u001b[32m---> \u001b[39m\u001b[32m92\u001b[39m     \u001b[38;5;28;43mself\u001b[39;49m\u001b[43m.\u001b[49m\u001b[43mdecompressor\u001b[49m\u001b[43m.\u001b[49m\u001b[43mdecompress_many\u001b[49m\u001b[43m(\u001b[49m\u001b[43mpoint_bytes\u001b[49m\u001b[43m)\u001b[49m\n\u001b[32m     93\u001b[39m     \u001b[38;5;28;01mreturn\u001b[39;00m point_bytes\n",
      "\u001b[31mLazrsError\u001b[39m: IoError: Failed to use readinto to read bytes"
     ]
    }
   ],
   "source": [
    "\n",
    "with (B2D_DIR / \"bologna.laz\").open(\"rb\") as f:\n",
    "    las = laspy.read(f)"
   ]
  },
  {
   "cell_type": "code",
   "execution_count": 9,
   "id": "5be9556a",
   "metadata": {},
   "outputs": [],
   "source": [
    "max_points = 1_000_000\n",
    "\n",
    "indices = np.random.choice(len(las.x), max_points, replace=False)\n",
    "points = np.vstack((las.x[indices], las.y[indices], las.z[indices])).T"
   ]
  },
  {
   "cell_type": "code",
   "execution_count": 10,
   "id": "9041e992",
   "metadata": {},
   "outputs": [],
   "source": [
    "#las = laspy.read(LAZ_FILE)\n",
    "x, y, z = las.x, las.y, las.z"
   ]
  },
  {
   "cell_type": "code",
   "execution_count": 11,
   "id": "dc3150ab",
   "metadata": {},
   "outputs": [
    {
     "name": "stdout",
     "output_type": "stream",
     "text": [
      "Point Format: <PointFormat(3, 4 bytes of extra dims)>\n",
      "Number of Points: 112787346\n",
      "Available Dimensions: ['X', 'Y', 'Z', 'intensity', 'return_number', 'number_of_returns', 'scan_direction_flag', 'edge_of_flight_line', 'classification', 'synthetic', 'key_point', 'withheld', 'scan_angle_rank', 'user_data', 'point_source_id', 'gps_time', 'red', 'green', 'blue', 'height_division']\n",
      "Bounding Box:\n",
      "  X: -319.2701 to -107.22720000000001\n",
      "  Y: -315.29970000000003 to 26.5196\n",
      "  Z: -8.614600000000001 to 34.2946\n",
      "Scale: [0.0001 0.0001 0.0001]\n",
      "Offset: [0. 0. 0.]\n",
      "CRS: None\n"
     ]
    }
   ],
   "source": [
    "describe_las(las)"
   ]
  },
  {
   "cell_type": "code",
   "execution_count": 12,
   "id": "75fa510a",
   "metadata": {},
   "outputs": [],
   "source": [
    "from laspy import read\n",
    "import pandas as pd\n",
    "import numpy as np\n",
    "from sklearn.preprocessing import StandardScaler\n",
    "\n",
    "# Fields of interest\n",
    "fields = ['X', 'Y', 'Z', 'intensity', 'red', 'green', 'blue', 'classification']\n",
    "\n",
    "df = pd.DataFrame({field: np.asarray(getattr(las, field)) for field in fields})\n",
    "\n",
    "# Drop non-ground points (keep classification == 2 or 11 for now)\n",
    "df = df[df['classification'].isin([2, 11])]  # 2 = ground, 11 = road surface\n",
    "\n",
    "# Feature engineering placeholders (e.g., flatness, curvature can go here)\n",
    "# Later...\n",
    "\n",
    "# Optional: Normalize RGB\n",
    "df[['red', 'green', 'blue']] /= 65535.0\n",
    "\n",
    "# Optional: Standard scale numerical features\n",
    "scaler = StandardScaler()\n",
    "features = ['Z', 'intensity', 'red', 'green', 'blue']\n",
    "df[features] = scaler.fit_transform(df[features])\n"
   ]
  },
  {
   "cell_type": "markdown",
   "id": "f509faee",
   "metadata": {},
   "source": [
    "We're dealing with a huge pointcloud here, so let's significantly downsample for the purpose of building the pipeline."
   ]
  },
  {
   "cell_type": "code",
   "execution_count": 13,
   "id": "3bce97a8",
   "metadata": {},
   "outputs": [],
   "source": [
    "from sklearn.utils import resample\n",
    "\n",
    "# Get sidewalk and road separately\n",
    "df_sidewalk = df[df['classification'] == 2] #sidewalks\n",
    "df_road = df[df['classification'] == 11] # streets\n",
    "\n",
    "# Sample a balanced subset\n",
    "N = 200_000  # 100k each\n",
    "sidewalk_sample = resample(df_sidewalk, n_samples=N//2, random_state=42)\n",
    "road_sample = resample(df_road, n_samples=N//2, random_state=42)\n",
    "\n",
    "df_sampled = pd.concat([sidewalk_sample, road_sample]).sample(frac=1, random_state=42).reset_index(drop=True)\n"
   ]
  },
  {
   "cell_type": "code",
   "execution_count": null,
   "id": "db8a4f19",
   "metadata": {},
   "outputs": [],
   "source": [
    "#provide a new column for labels, and map classifications to labels\n",
    "df_sampled['label'] = df_sampled['classification'].map({2: 'sidewalk', 11: 'road'})"
   ]
  },
  {
   "cell_type": "code",
   "execution_count": 29,
   "id": "58671266",
   "metadata": {},
   "outputs": [
    {
     "name": "stdout",
     "output_type": "stream",
     "text": [
      "[[25685  4315]\n",
      " [ 4037 25963]]\n",
      "              precision    recall  f1-score   support\n",
      "\n",
      "        road       0.86      0.86      0.86     30000\n",
      "    sidewalk       0.86      0.87      0.86     30000\n",
      "\n",
      "    accuracy                           0.86     60000\n",
      "   macro avg       0.86      0.86      0.86     60000\n",
      "weighted avg       0.86      0.86      0.86     60000\n",
      "\n"
     ]
    }
   ],
   "source": [
    "from sklearn.model_selection import train_test_split\n",
    "\n",
    "X = df_sampled[features]\n",
    "y = df_sampled['label']\n",
    "\n",
    "X_train, X_test, y_train, y_test = train_test_split(X, y, stratify=y, test_size=0.3, random_state=42)\n",
    "\n",
    "from sklearn.ensemble import RandomForestClassifier\n",
    "from sklearn.metrics import classification_report, confusion_matrix\n",
    "\n",
    "model = RandomForestClassifier(n_estimators=100, random_state=42)\n",
    "model.fit(X_train, y_train)\n",
    "\n",
    "y_pred = model.predict(X_test)\n",
    "\n",
    "print(confusion_matrix(y_test, y_pred))\n",
    "print(classification_report(y_test, y_pred))"
   ]
  },
  {
   "cell_type": "markdown",
   "id": "c67c8dcf",
   "metadata": {},
   "source": [
    "We can also add features to the lidar to improve the model efficacy, such as planes, roughness, etc."
   ]
  },
  {
   "cell_type": "code",
   "execution_count": 17,
   "id": "b08784b4",
   "metadata": {},
   "outputs": [],
   "source": [
    "import open3d as o3d\n",
    "\n",
    "# Convert subset to Open3D point cloud\n",
    "pcd = o3d.geometry.PointCloud()\n",
    "pcd.points = o3d.utility.Vector3dVector(df_sampled[['X','Y','Z']].values)\n",
    "\n",
    "# Estimate normals\n",
    "pcd.estimate_normals(search_param=o3d.geometry.KDTreeSearchParamHybrid(radius=0.5, max_nn=30))\n",
    "\n",
    "# Extract normal z-component to detect flatness (e.g. horizontal surfaces)\n",
    "normals = np.asarray(pcd.normals)\n",
    "df_sampled['normal_z'] = normals[:,2]\n"
   ]
  },
  {
   "cell_type": "markdown",
   "id": "d36d89c5",
   "metadata": {},
   "source": [
    "The Z-component of the normal tells you how “vertical” or “horizontal” the surface is at that point.\n",
    "> If normal_z ≈ 1 → point is on a horizontal surface facing up.\n",
    "\n",
    "> If normal_z ≈ 0 → point is on a vertical surface (wall, tree trunk, etc.).\n",
    "\n",
    "This is a feature that can help the classifier distinguish ground, roofs, walls, etc."
   ]
  },
  {
   "cell_type": "code",
   "execution_count": 18,
   "id": "a697e05f",
   "metadata": {},
   "outputs": [
    {
     "name": "stdout",
     "output_type": "stream",
     "text": [
      "label\n",
      "road        30000\n",
      "sidewalk    30000\n",
      "Name: count, dtype: int64\n",
      "(array(['road', 'sidewalk'], dtype=object), array([29722, 30278]))\n"
     ]
    }
   ],
   "source": [
    "print(y_test.value_counts())\n",
    "print(np.unique(y_pred, return_counts=True))\n"
   ]
  },
  {
   "cell_type": "code",
   "execution_count": 27,
   "id": "241427f4",
   "metadata": {},
   "outputs": [],
   "source": [
    "import open3d as o3d\n",
    "import numpy as np\n",
    "\n",
    "# Convert coordinates to numpy array\n",
    "points = df_sampled[['X', 'Y', 'Z']].to_numpy()\n",
    "\n",
    "# Create point cloud\n",
    "pcd = o3d.geometry.PointCloud()\n",
    "pcd.points = o3d.utility.Vector3dVector(points)\n",
    "\n",
    "# Add RGB colors\n",
    "colors = df_sampled[['red', 'green', 'blue']].to_numpy().astype(np.float64)\n",
    "pcd.colors = o3d.utility.Vector3dVector(colors)\n",
    "\n",
    "\n",
    "# OPTIONAL: if you want to visualize by classification label instead of RGB\n",
    "# Map each label to a distinct color\n",
    "import matplotlib.pyplot as plt\n",
    "unique_labels = df_sampled['label'].unique()\n",
    "label_to_color = {lbl: plt.cm.tab20(i / len(unique_labels))[:3] for i, lbl in enumerate(unique_labels)}\n",
    "colors_by_label = df_sampled['label'].map(label_to_color).to_numpy()\n",
    "#pcd.colors = o3d.utility.Vector3dVector(np.vstack(colors_by_label)) #if you want to use label colors instead of RGB\n",
    "\n",
    "# Save to file\n",
    "#o3d.io.write_point_cloud(\"classified_output.ply\", pcd)\n",
    "\n",
    "# View in Open3D visualizer\n",
    "o3d.visualization.draw_geometries([pcd])\n"
   ]
  },
  {
   "cell_type": "code",
   "execution_count": 28,
   "id": "66446fb0",
   "metadata": {},
   "outputs": [
    {
     "name": "stdout",
     "output_type": "stream",
     "text": [
      "F1 Macro per fold: [0.8640439  0.86549906 0.8622708  0.86406885 0.8632986 ]\n",
      "Mean F1 Macro: 0.8638362401468338\n"
     ]
    }
   ],
   "source": [
    "# Perform cross-validation to evaluate the model's performance\n",
    "from sklearn.model_selection import StratifiedKFold, cross_val_score\n",
    "from sklearn.ensemble import RandomForestClassifier\n",
    "import numpy as np\n",
    "\n",
    "X = df_sampled[features]\n",
    "y = df_sampled['label']\n",
    "\n",
    "rf = RandomForestClassifier(n_estimators=200, random_state=42)\n",
    "\n",
    "cv = StratifiedKFold(n_splits=5, shuffle=True, random_state=42)\n",
    "scores = cross_val_score(rf, X, y, cv=cv, scoring='f1_macro')\n",
    "\n",
    "print(\"F1 Macro per fold:\", scores)\n",
    "print(\"Mean F1 Macro:\", np.mean(scores))\n"
   ]
  },
  {
   "cell_type": "code",
   "execution_count": 34,
   "id": "835cc285",
   "metadata": {},
   "outputs": [],
   "source": [
    "import open3d as o3d\n",
    "import numpy as np\n",
    "import matplotlib.pyplot as plt\n",
    "#Let's plot the point cloud with colors based on match/mismatch of predicted labels\n",
    "\n",
    "# 🔹 1. Predict for all points\n",
    "df_sampled['pred_label'] = model.predict(df_sampled[features])\n",
    "\n",
    "# 🔹 2. Points array\n",
    "points = df_sampled[['X', 'Y', 'Z']].to_numpy()\n",
    "\n",
    "# 🔹 3. Colormap for predicted labels\n",
    "unique_pred_labels = np.unique(df_sampled['pred_label'])\n",
    "pred_label_to_color = {lbl: plt.cm.tab20(i / len(unique_pred_labels))[:3] for i, lbl in enumerate(unique_pred_labels)}\n",
    "\n",
    "# 🔹 4. Build colors based on match/mismatch\n",
    "colors = []\n",
    "for actual, pred in zip(df_sampled['label'], df_sampled['pred_label']):\n",
    "    if actual == pred:\n",
    "        # Correct → grey\n",
    "        colors.append([0.6, 0.6, 0.6])\n",
    "    else:\n",
    "        # Incorrect → color by predicted label\n",
    "        colors.append(pred_label_to_color[pred])\n",
    "\n",
    "colors = np.array(colors)\n",
    "\n",
    "# 🔹 5. Create point cloud\n",
    "pcd = o3d.geometry.PointCloud()\n",
    "pcd.points = o3d.utility.Vector3dVector(points)\n",
    "pcd.colors = o3d.utility.Vector3dVector(colors)\n",
    "\n",
    "# 🔹 6. Visualize\n",
    "o3d.visualization.draw_geometries([pcd])\n"
   ]
  },
  {
   "cell_type": "markdown",
   "id": "f1ef7e9f",
   "metadata": {},
   "source": [
    "Looks like we're generally maintaining a good level of accuracy. However - there is potentially a single problem here... In our training dataset we have ONLY data that is either labelled as a sidewalk or a carriageway. If we are to introduce unseen data here, there will be more classes than \"sidewalk\" and \"road\". We have to introduce another more classes. If we just want a sidewalk and carriageway classifier, we can just use 3 classes - \"Sidewalk\", \"carriageway\", and \"other\""
   ]
  },
  {
   "cell_type": "code",
   "execution_count": null,
   "id": "bf67753c",
   "metadata": {},
   "outputs": [],
   "source": []
  },
  {
   "cell_type": "markdown",
   "id": "5376961d",
   "metadata": {},
   "source": [
    "### Unsupervised (another notebook?)"
   ]
  },
  {
   "cell_type": "code",
   "execution_count": null,
   "id": "f5c58923",
   "metadata": {},
   "outputs": [],
   "source": [
    "# -------------------------\n",
    "# 0. Imports\n",
    "# -------------------------\n",
    "import pandas as pd\n",
    "import numpy as np\n",
    "import open3d as o3d\n",
    "import matplotlib.pyplot as plt\n",
    "\n",
    "from sklearn.model_selection import StratifiedKFold, cross_val_score, train_test_split, GridSearchCV\n",
    "from sklearn.ensemble import RandomForestClassifier\n",
    "from sklearn.metrics import classification_report, confusion_matrix\n",
    "from sklearn.preprocessing import StandardScaler\n",
    "from sklearn.cluster import KMeans, DBSCAN\n",
    "from sklearn.decomposition import PCA\n",
    "\n",
    "#import tensorflow as tf\n",
    "#from tensorflow.keras import layers, models\n",
    "#import joblib\n",
    "\n",
    "\n",
    "\n",
    "\n",
    "\n",
    "\n",
    "\n",
    "\n",
    "\n",
    "\n",
    "\n",
    "\n",
    "\n",
    "\n",
    "\n",
    "\n"
   ]
  },
  {
   "cell_type": "code",
   "execution_count": 35,
   "id": "e6945202",
   "metadata": {},
   "outputs": [
    {
     "ename": "KeyError",
     "evalue": "'label'",
     "output_type": "error",
     "traceback": [
      "\u001b[31m---------------------------------------------------------------------------\u001b[39m",
      "\u001b[31mKeyError\u001b[39m                                  Traceback (most recent call last)",
      "\u001b[36mFile \u001b[39m\u001b[32m~/Documents/GitHub/lidar_sidewalks/.venv/lib/python3.11/site-packages/pandas/core/indexes/base.py:3812\u001b[39m, in \u001b[36mIndex.get_loc\u001b[39m\u001b[34m(self, key)\u001b[39m\n\u001b[32m   3811\u001b[39m \u001b[38;5;28;01mtry\u001b[39;00m:\n\u001b[32m-> \u001b[39m\u001b[32m3812\u001b[39m     \u001b[38;5;28;01mreturn\u001b[39;00m \u001b[38;5;28;43mself\u001b[39;49m\u001b[43m.\u001b[49m\u001b[43m_engine\u001b[49m\u001b[43m.\u001b[49m\u001b[43mget_loc\u001b[49m\u001b[43m(\u001b[49m\u001b[43mcasted_key\u001b[49m\u001b[43m)\u001b[49m\n\u001b[32m   3813\u001b[39m \u001b[38;5;28;01mexcept\u001b[39;00m \u001b[38;5;167;01mKeyError\u001b[39;00m \u001b[38;5;28;01mas\u001b[39;00m err:\n",
      "\u001b[36mFile \u001b[39m\u001b[32mpandas/_libs/index.pyx:167\u001b[39m, in \u001b[36mpandas._libs.index.IndexEngine.get_loc\u001b[39m\u001b[34m()\u001b[39m\n",
      "\u001b[36mFile \u001b[39m\u001b[32mpandas/_libs/index.pyx:196\u001b[39m, in \u001b[36mpandas._libs.index.IndexEngine.get_loc\u001b[39m\u001b[34m()\u001b[39m\n",
      "\u001b[36mFile \u001b[39m\u001b[32mpandas/_libs/hashtable_class_helper.pxi:7088\u001b[39m, in \u001b[36mpandas._libs.hashtable.PyObjectHashTable.get_item\u001b[39m\u001b[34m()\u001b[39m\n",
      "\u001b[36mFile \u001b[39m\u001b[32mpandas/_libs/hashtable_class_helper.pxi:7096\u001b[39m, in \u001b[36mpandas._libs.hashtable.PyObjectHashTable.get_item\u001b[39m\u001b[34m()\u001b[39m\n",
      "\u001b[31mKeyError\u001b[39m: 'label'",
      "\nThe above exception was the direct cause of the following exception:\n",
      "\u001b[31mKeyError\u001b[39m                                  Traceback (most recent call last)",
      "\u001b[36mCell\u001b[39m\u001b[36m \u001b[39m\u001b[32mIn[35]\u001b[39m\u001b[32m, line 5\u001b[39m\n\u001b[32m      1\u001b[39m \u001b[38;5;66;03m# -------------------------\u001b[39;00m\n\u001b[32m      2\u001b[39m \u001b[38;5;66;03m# 1. Load data\u001b[39;00m\n\u001b[32m      3\u001b[39m \u001b[38;5;66;03m# -------------------------\u001b[39;00m\n\u001b[32m      4\u001b[39m \u001b[38;5;66;03m# df should already contain: X, Y, Z, intensity, red, green, blue, label (12 classes originally)\u001b[39;00m\n\u001b[32m----> \u001b[39m\u001b[32m5\u001b[39m df[\u001b[33m'\u001b[39m\u001b[33mlabel\u001b[39m\u001b[33m'\u001b[39m] = \u001b[43mdf\u001b[49m\u001b[43m[\u001b[49m\u001b[33;43m'\u001b[39;49m\u001b[33;43mlabel\u001b[39;49m\u001b[33;43m'\u001b[39;49m\u001b[43m]\u001b[49m.astype(\u001b[38;5;28mstr\u001b[39m)\n\u001b[32m      7\u001b[39m \u001b[38;5;66;03m# -------------------------\u001b[39;00m\n\u001b[32m      8\u001b[39m \u001b[38;5;66;03m# 2. Collapse into 3 classes\u001b[39;00m\n\u001b[32m      9\u001b[39m \u001b[38;5;66;03m# -------------------------\u001b[39;00m\n\u001b[32m     10\u001b[39m \u001b[38;5;66;03m# Classes of interest\u001b[39;00m\n\u001b[32m     11\u001b[39m target_map = {\n\u001b[32m     12\u001b[39m     \u001b[32m2\u001b[39m: \u001b[33m'\u001b[39m\u001b[33msidewalk\u001b[39m\u001b[33m'\u001b[39m,\n\u001b[32m     13\u001b[39m     \u001b[32m11\u001b[39m: \u001b[33m'\u001b[39m\u001b[33mcarriageway\u001b[39m\u001b[33m'\u001b[39m\n\u001b[32m     14\u001b[39m }\n",
      "\u001b[36mFile \u001b[39m\u001b[32m~/Documents/GitHub/lidar_sidewalks/.venv/lib/python3.11/site-packages/pandas/core/frame.py:4107\u001b[39m, in \u001b[36mDataFrame.__getitem__\u001b[39m\u001b[34m(self, key)\u001b[39m\n\u001b[32m   4105\u001b[39m \u001b[38;5;28;01mif\u001b[39;00m \u001b[38;5;28mself\u001b[39m.columns.nlevels > \u001b[32m1\u001b[39m:\n\u001b[32m   4106\u001b[39m     \u001b[38;5;28;01mreturn\u001b[39;00m \u001b[38;5;28mself\u001b[39m._getitem_multilevel(key)\n\u001b[32m-> \u001b[39m\u001b[32m4107\u001b[39m indexer = \u001b[38;5;28;43mself\u001b[39;49m\u001b[43m.\u001b[49m\u001b[43mcolumns\u001b[49m\u001b[43m.\u001b[49m\u001b[43mget_loc\u001b[49m\u001b[43m(\u001b[49m\u001b[43mkey\u001b[49m\u001b[43m)\u001b[49m\n\u001b[32m   4108\u001b[39m \u001b[38;5;28;01mif\u001b[39;00m is_integer(indexer):\n\u001b[32m   4109\u001b[39m     indexer = [indexer]\n",
      "\u001b[36mFile \u001b[39m\u001b[32m~/Documents/GitHub/lidar_sidewalks/.venv/lib/python3.11/site-packages/pandas/core/indexes/base.py:3819\u001b[39m, in \u001b[36mIndex.get_loc\u001b[39m\u001b[34m(self, key)\u001b[39m\n\u001b[32m   3814\u001b[39m     \u001b[38;5;28;01mif\u001b[39;00m \u001b[38;5;28misinstance\u001b[39m(casted_key, \u001b[38;5;28mslice\u001b[39m) \u001b[38;5;129;01mor\u001b[39;00m (\n\u001b[32m   3815\u001b[39m         \u001b[38;5;28misinstance\u001b[39m(casted_key, abc.Iterable)\n\u001b[32m   3816\u001b[39m         \u001b[38;5;129;01mand\u001b[39;00m \u001b[38;5;28many\u001b[39m(\u001b[38;5;28misinstance\u001b[39m(x, \u001b[38;5;28mslice\u001b[39m) \u001b[38;5;28;01mfor\u001b[39;00m x \u001b[38;5;129;01min\u001b[39;00m casted_key)\n\u001b[32m   3817\u001b[39m     ):\n\u001b[32m   3818\u001b[39m         \u001b[38;5;28;01mraise\u001b[39;00m InvalidIndexError(key)\n\u001b[32m-> \u001b[39m\u001b[32m3819\u001b[39m     \u001b[38;5;28;01mraise\u001b[39;00m \u001b[38;5;167;01mKeyError\u001b[39;00m(key) \u001b[38;5;28;01mfrom\u001b[39;00m\u001b[38;5;250m \u001b[39m\u001b[34;01merr\u001b[39;00m\n\u001b[32m   3820\u001b[39m \u001b[38;5;28;01mexcept\u001b[39;00m \u001b[38;5;167;01mTypeError\u001b[39;00m:\n\u001b[32m   3821\u001b[39m     \u001b[38;5;66;03m# If we have a listlike key, _check_indexing_error will raise\u001b[39;00m\n\u001b[32m   3822\u001b[39m     \u001b[38;5;66;03m#  InvalidIndexError. Otherwise we fall through and re-raise\u001b[39;00m\n\u001b[32m   3823\u001b[39m     \u001b[38;5;66;03m#  the TypeError.\u001b[39;00m\n\u001b[32m   3824\u001b[39m     \u001b[38;5;28mself\u001b[39m._check_indexing_error(key)\n",
      "\u001b[31mKeyError\u001b[39m: 'label'"
     ]
    }
   ],
   "source": [
    "# -------------------------\n",
    "# 1. Load data\n",
    "# -------------------------\n",
    "# df should already contain: X, Y, Z, intensity, red, green, blue, label (12 classes originally)\n",
    "df['label'] = df['label'].astype(str)\n",
    "\n",
    "# -------------------------\n",
    "# 2. Collapse into 3 classes\n",
    "# -------------------------\n",
    "# Classes of interest\n",
    "target_map = {\n",
    "    2: 'sidewalk',\n",
    "    11: 'carriageway'\n",
    "}\n",
    "\n",
    "# Map, with \"other\" fallback\n",
    "df['label_3class'] = df['classification'].map(target_map).fillna('other')\n",
    "\n",
    "# Check balance\n",
    "print(df['label_3class'].value_counts())\n"
   ]
  },
  {
   "cell_type": "code",
   "execution_count": null,
   "id": "74b2001b",
   "metadata": {},
   "outputs": [],
   "source": [
    "# -------------------------\n",
    "# 3. Geometric feature engineering\n",
    "# -------------------------\n",
    "\n",
    "# Subsample for normals\n",
    "N_SUBSAMPLE = 50000\n",
    "df_sub = df.sample(min(N_SUBSAMPLE, len(df)), random_state=42)\n",
    "\n",
    "pcd = o3d.geometry.PointCloud()\n",
    "pcd.points = o3d.utility.Vector3dVector(df_sub[['X','Y','Z']].to_numpy())\n",
    "pcd.estimate_normals(search_param=o3d.geometry.KDTreeSearchParamHybrid(radius=0.5, max_nn=30))\n",
    "\n",
    "# Store normal_z\n",
    "df_sub['normal_z'] = np.asarray(pcd.normals)[:,2]\n",
    "\n",
    "# Nearest-neighbor interpolation of normal_z\n",
    "from sklearn.neighbors import NearestNeighbors\n",
    "nbrs = NearestNeighbors(n_neighbors=1).fit(df_sub[['X','Y','Z']])\n",
    "_, indices = nbrs.kneighbors(df[['X','Y','Z']])\n",
    "df['normal_z'] = df_sub.iloc[indices[:,0]]['normal_z'].values\n",
    "\n",
    "# Add height (relative to min Z = ground approx.)\n",
    "df['height'] = df['Z'] - df['Z'].min()"
   ]
  },
  {
   "cell_type": "code",
   "execution_count": null,
   "id": "cfe78b42",
   "metadata": {},
   "outputs": [],
   "source": [
    "# -------------------------\n",
    "# 4. Prepare features & labels\n",
    "# -------------------------\n",
    "features = ['intensity','red','green','blue','normal_z','height']\n",
    "X = df[features].to_numpy()\n",
    "y = df['label_3class']\n",
    "\n",
    "# Scale features\n",
    "scaler = StandardScaler()\n",
    "X_scaled = scaler.fit_transform(X)"
   ]
  },
  {
   "cell_type": "code",
   "execution_count": null,
   "id": "135b214b",
   "metadata": {},
   "outputs": [],
   "source": [
    "# -------------------------\n",
    "# 5. Check for \"only one label\" issue\n",
    "# -------------------------\n",
    "X_train, X_test, y_train, y_test = train_test_split(X_scaled, y, stratify=y, test_size=0.3, random_state=42)\n",
    "\n",
    "rf = RandomForestClassifier(n_estimators=100, random_state=42, n_jobs=-1)\n",
    "rf.fit(X_train, y_train)\n",
    "y_pred = rf.predict(X_test)\n",
    "\n",
    "print(\"Unique predictions:\", np.unique(y_pred, return_counts=True))\n",
    "print(confusion_matrix(y_test, y_pred))\n",
    "print(classification_report(y_test, y_pred))"
   ]
  },
  {
   "cell_type": "code",
   "execution_count": null,
   "id": "3ecf9588",
   "metadata": {},
   "outputs": [],
   "source": [
    "# -------------------------\n",
    "# 6. Cross-validated RandomForest with tuning\n",
    "# -------------------------\n",
    "param_grid = {\n",
    "    'n_estimators': [100, 200],\n",
    "    'max_depth': [None, 10, 20]\n",
    "}\n",
    "cv = StratifiedKFold(n_splits=5, shuffle=True, random_state=42)\n",
    "grid = GridSearchCV(rf, param_grid, cv=cv, scoring='f1_macro', n_jobs=-1)\n",
    "grid.fit(X_scaled, y)\n",
    "\n",
    "print(\"Best RF params:\", grid.best_params_)\n",
    "print(\"Best CV score:\", grid.best_score_)\n",
    "\n",
    "rf_best = grid.best_estimator_\n"
   ]
  },
  {
   "cell_type": "code",
   "execution_count": null,
   "id": "5cb429cf",
   "metadata": {},
   "outputs": [],
   "source": [
    "# -------------------------\n",
    "# 7. Unsupervised clustering\n",
    "# -------------------------\n",
    "\n",
    "# PCA for speed\n",
    "X_pca = PCA(n_components=3).fit_transform(X_scaled)\n",
    "\n",
    "# KMeans\n",
    "kmeans = KMeans(n_clusters=3, random_state=42).fit(X_pca)\n",
    "print(\"KMeans cluster counts:\", np.unique(kmeans.labels_, return_counts=True))\n",
    "\n",
    "# DBSCAN\n",
    "dbscan = DBSCAN(eps=0.5, min_samples=50).fit(X_pca)\n",
    "print(\"DBSCAN cluster counts:\", np.unique(dbscan.labels_, return_counts=True))"
   ]
  },
  {
   "cell_type": "code",
   "execution_count": null,
   "id": "8f4c8f3f",
   "metadata": {},
   "outputs": [],
   "source": [
    "# -------------------------\n",
    "# 8. Deep learning baseline (MLP)\n",
    "# -------------------------\n",
    "n_classes = len(np.unique(y))\n",
    "y_encoded = pd.Categorical(y).codes  # convert to int labels\n",
    "\n",
    "model = models.Sequential([\n",
    "    layers.Input(shape=(X_scaled.shape[1],)),\n",
    "    layers.Dense(64, activation='relu'),\n",
    "    layers.Dense(64, activation='relu'),\n",
    "    layers.Dense(n_classes, activation='softmax')\n",
    "])\n",
    "\n",
    "model.compile(optimizer='adam', loss='sparse_categorical_crossentropy', metrics=['accuracy'])\n",
    "history = model.fit(X_train, pd.Categorical(y_train).codes,\n",
    "                    validation_data=(X_test, pd.Categorical(y_test).codes),\n",
    "                    epochs=20, batch_size=32)"
   ]
  },
  {
   "cell_type": "code",
   "execution_count": null,
   "id": "97e9cbad",
   "metadata": {},
   "outputs": [],
   "source": [
    "# -------------------------\n",
    "# 9. Save models\n",
    "# -------------------------\n",
    "joblib.dump(rf_best, \"rf_3class.joblib\")\n",
    "joblib.dump(scaler, \"scaler.joblib\")\n",
    "model.save(\"mlp_3class.h5\")\n",
    "\n",
    "print(\"Models saved.\")"
   ]
  },
  {
   "cell_type": "code",
   "execution_count": null,
   "id": "3f9c3283",
   "metadata": {},
   "outputs": [],
   "source": [
    "# -------------------------\n",
    "# 10. Visualisation helper\n",
    "# -------------------------\n",
    "def visualize_predictions(df, y_pred, out_file=\"predictions.ply\"):\n",
    "    pcd = o3d.geometry.PointCloud()\n",
    "    pcd.points = o3d.utility.Vector3dVector(df[['X','Y','Z']].to_numpy())\n",
    "    \n",
    "    # Map labels to colors\n",
    "    unique_labels = np.unique(y_pred)\n",
    "    cmap = plt.cm.get_cmap(\"tab20\", len(unique_labels))\n",
    "    label_to_color = {lbl: cmap(i)[:3] for i,lbl in enumerate(unique_labels)}\n",
    "    colors = np.vstack([label_to_color[lbl] for lbl in y_pred])\n",
    "    \n",
    "    pcd.colors = o3d.utility.Vector3dVector(colors)\n",
    "    o3d.io.write_point_cloud(out_file, pcd)\n",
    "    o3d.visualization.draw_geometries([pcd])\n",
    "\n",
    "# Example: visualize RF predictions\n",
    "visualize_predictions(df, rf_best.predict(X_scaled), out_file=\"rf_predictions.ply\")"
   ]
  }
 ],
 "metadata": {
  "kernelspec": {
   "display_name": "lidar-sidewalks",
   "language": "python",
   "name": "python3"
  },
  "language_info": {
   "codemirror_mode": {
    "name": "ipython",
    "version": 3
   },
   "file_extension": ".py",
   "mimetype": "text/x-python",
   "name": "python",
   "nbconvert_exporter": "python",
   "pygments_lexer": "ipython3",
   "version": "3.11.13"
  }
 },
 "nbformat": 4,
 "nbformat_minor": 5
}

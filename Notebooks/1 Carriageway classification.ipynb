{
 "cells": [
  {
   "cell_type": "markdown",
   "id": "24d512d5",
   "metadata": {},
   "source": [
    "# Classification of roads"
   ]
  },
  {
   "cell_type": "markdown",
   "id": "1cc42c90",
   "metadata": {},
   "source": [
    "We're going to look into the success of classifying algorithms on the LiDAR data we have with a couple of different techniques"
   ]
  },
  {
   "cell_type": "markdown",
   "id": "15d2aaff",
   "metadata": {},
   "source": [
    "### The following are the list of classifications defined by IFP\n",
    "- 0 not yet classified (nothing done yet)\n",
    "- 1 unclassified (actively marked as nothing)\n",
    "- 2 ground, sidewalk\n",
    "- 3,4,5 vegetation, low(gras) medium(shrubbery) high (trees)\n",
    "- 6 buildings\n",
    "- 8 street furniture\n",
    "- 10 street markings\n",
    "- 11 street, pavement\n",
    "- 12 bike lanes\n",
    "- 13 temporary things(bicycles, trashcans)\n",
    "- 15 cars, trucks"
   ]
  },
  {
   "cell_type": "code",
   "execution_count": 1,
   "id": "1d4f9ae9",
   "metadata": {},
   "outputs": [],
   "source": [
    "import laspy\n",
    "import numpy as np\n",
    "import matplotlib.pyplot as plt     \n",
    "import seaborn as sns\n",
    "import open3d as o3d\n",
    "import pandas as pd\n",
    "\n",
    "sns.set_theme(style=\"whitegrid\")"
   ]
  },
  {
   "cell_type": "code",
   "execution_count": 10,
   "id": "d316ca5b",
   "metadata": {},
   "outputs": [],
   "source": [
    "def describe_las(las):\n",
    "    print(f\"Point Format: {las.header.point_format}\")\n",
    "    print(f\"Number of Points: {las.header.point_count}\")\n",
    "    print(\"Available Dimensions:\", list(las.point_format.dimension_names))\n",
    "    print(\"Bounding Box:\")\n",
    "    print(f\"  X: {las.header.mins[0]} to {las.header.maxs[0]}\")\n",
    "    print(f\"  Y: {las.header.mins[1]} to {las.header.maxs[1]}\")\n",
    "    print(f\"  Z: {las.header.mins[2]} to {las.header.maxs[2]}\")\n",
    "    print(\"Scale:\", las.header.scales)\n",
    "    print(\"Offset:\", las.header.offsets)\n",
    "    try:\n",
    "        print(\"CRS:\", las.header.parse_crs())\n",
    "    except:\n",
    "        print(\"CRS: Not defined\")"
   ]
  },
  {
   "cell_type": "code",
   "execution_count": 6,
   "id": "72e1d4f2",
   "metadata": {},
   "outputs": [],
   "source": [
    "LAZ_FILE = \"/Users/jamesmurphy/Downloads/bologna.laz\"\n",
    "las = laspy.read(LAZ_FILE)"
   ]
  },
  {
   "cell_type": "code",
   "execution_count": 8,
   "id": "5be9556a",
   "metadata": {},
   "outputs": [],
   "source": [
    "max_points = 1_000_000\n",
    "\n",
    "indices = np.random.choice(len(las.x), max_points, replace=False)\n",
    "points = np.vstack((las.x[indices], las.y[indices], las.z[indices])).T"
   ]
  },
  {
   "cell_type": "code",
   "execution_count": 9,
   "id": "9041e992",
   "metadata": {},
   "outputs": [],
   "source": [
    "las = laspy.read(LAZ_FILE)\n",
    "x, y, z = las.x, las.y, las.z"
   ]
  },
  {
   "cell_type": "code",
   "execution_count": 11,
   "id": "dc3150ab",
   "metadata": {},
   "outputs": [
    {
     "name": "stdout",
     "output_type": "stream",
     "text": [
      "Point Format: <PointFormat(3, 4 bytes of extra dims)>\n",
      "Number of Points: 112787346\n",
      "Available Dimensions: ['X', 'Y', 'Z', 'intensity', 'return_number', 'number_of_returns', 'scan_direction_flag', 'edge_of_flight_line', 'classification', 'synthetic', 'key_point', 'withheld', 'scan_angle_rank', 'user_data', 'point_source_id', 'gps_time', 'red', 'green', 'blue', 'height_division']\n",
      "Bounding Box:\n",
      "  X: -319.2701 to -107.22720000000001\n",
      "  Y: -315.29970000000003 to 26.5196\n",
      "  Z: -8.614600000000001 to 34.2946\n",
      "Scale: [0.0001 0.0001 0.0001]\n",
      "Offset: [0. 0. 0.]\n",
      "CRS: None\n"
     ]
    }
   ],
   "source": [
    "describe_las(las)"
   ]
  },
  {
   "cell_type": "code",
   "execution_count": 13,
   "id": "75fa510a",
   "metadata": {},
   "outputs": [],
   "source": [
    "from laspy import read\n",
    "import pandas as pd\n",
    "import numpy as np\n",
    "from sklearn.preprocessing import StandardScaler\n",
    "\n",
    "# Fields of interest\n",
    "fields = ['X', 'Y', 'Z', 'intensity', 'red', 'green', 'blue', 'classification']\n",
    "\n",
    "df = pd.DataFrame({field: np.asarray(getattr(las, field)) for field in fields})\n",
    "\n",
    "# Drop non-ground points (keep classification == 2 or 11 for now)\n",
    "df = df[df['classification'].isin([2, 11])]  # 2 = ground, 11 = road surface\n",
    "\n",
    "# Feature engineering placeholders (e.g., flatness, curvature can go here)\n",
    "# Later...\n",
    "\n",
    "# Optional: Normalize RGB\n",
    "df[['red', 'green', 'blue']] /= 65535.0\n",
    "\n",
    "# Optional: Standard scale numerical features\n",
    "scaler = StandardScaler()\n",
    "features = ['Z', 'intensity', 'red', 'green', 'blue']\n",
    "df[features] = scaler.fit_transform(df[features])\n"
   ]
  },
  {
   "cell_type": "markdown",
   "id": "f509faee",
   "metadata": {},
   "source": [
    "We're dealing with a huge pointcloud here, so let's significantly downsample for the purpose of building the pipeline."
   ]
  },
  {
   "cell_type": "code",
   "execution_count": null,
   "id": "3bce97a8",
   "metadata": {},
   "outputs": [],
   "source": [
    "from sklearn.utils import resample\n",
    "\n",
    "# Get sidewalk and road separately\n",
    "df_sidewalk = df[df['classification'] == 2] #sidewalks\n",
    "df_road = df[df['classification'] == 11] # streets\n",
    "\n",
    "# Sample a balanced subset\n",
    "N = 200_000  # 100k each\n",
    "sidewalk_sample = resample(df_sidewalk, n_samples=N//2, random_state=42)\n",
    "road_sample = resample(df_road, n_samples=N//2, random_state=42)\n",
    "\n",
    "df_sampled = pd.concat([sidewalk_sample, road_sample]).sample(frac=1, random_state=42).reset_index(drop=True)\n"
   ]
  },
  {
   "cell_type": "code",
   "execution_count": null,
   "id": "db8a4f19",
   "metadata": {},
   "outputs": [],
   "source": [
    "df_sampled['label'] = df_sampled['classification'].map({2: 'sidewalk', 11: 'road'})"
   ]
  },
  {
   "cell_type": "code",
   "execution_count": 18,
   "id": "58671266",
   "metadata": {},
   "outputs": [],
   "source": [
    "from sklearn.model_selection import train_test_split\n",
    "\n",
    "X = df_sampled[features]\n",
    "y = df_sampled['label']\n",
    "\n",
    "X_train, X_test, y_train, y_test = train_test_split(X, y, stratify=y, test_size=0.3, random_state=42)"
   ]
  },
  {
   "cell_type": "code",
   "execution_count": 19,
   "id": "dbbe0544",
   "metadata": {},
   "outputs": [
    {
     "name": "stdout",
     "output_type": "stream",
     "text": [
      "[[25685  4315]\n",
      " [ 4037 25963]]\n",
      "              precision    recall  f1-score   support\n",
      "\n",
      "        road       0.86      0.86      0.86     30000\n",
      "    sidewalk       0.86      0.87      0.86     30000\n",
      "\n",
      "    accuracy                           0.86     60000\n",
      "   macro avg       0.86      0.86      0.86     60000\n",
      "weighted avg       0.86      0.86      0.86     60000\n",
      "\n"
     ]
    }
   ],
   "source": [
    "from sklearn.ensemble import RandomForestClassifier\n",
    "from sklearn.metrics import classification_report, confusion_matrix\n",
    "\n",
    "model = RandomForestClassifier(n_estimators=100, random_state=42)\n",
    "model.fit(X_train, y_train)\n",
    "\n",
    "y_pred = model.predict(X_test)\n",
    "\n",
    "print(confusion_matrix(y_test, y_pred))\n",
    "print(classification_report(y_test, y_pred))\n"
   ]
  },
  {
   "cell_type": "markdown",
   "id": "c67c8dcf",
   "metadata": {},
   "source": [
    "We can also add features to the lidar to improve the model efficacy, such as planes, roughness, etc."
   ]
  },
  {
   "cell_type": "code",
   "execution_count": 23,
   "id": "b08784b4",
   "metadata": {},
   "outputs": [],
   "source": [
    "import open3d as o3d\n",
    "\n",
    "# Convert subset to Open3D point cloud\n",
    "pcd = o3d.geometry.PointCloud()\n",
    "pcd.points = o3d.utility.Vector3dVector(df_sampled[['X','Y','Z']].values)\n",
    "\n",
    "# Estimate normals\n",
    "pcd.estimate_normals(search_param=o3d.geometry.KDTreeSearchParamHybrid(radius=0.5, max_nn=30))\n",
    "\n",
    "# Extract normal z-component to detect flatness (e.g. horizontal surfaces)\n",
    "normals = np.asarray(pcd.normals)\n",
    "df_sampled['normal_z'] = normals[:,2]\n"
   ]
  }
 ],
 "metadata": {
  "kernelspec": {
   "display_name": "lidar-sidewalks",
   "language": "python",
   "name": "python3"
  },
  "language_info": {
   "codemirror_mode": {
    "name": "ipython",
    "version": 3
   },
   "file_extension": ".py",
   "mimetype": "text/x-python",
   "name": "python",
   "nbconvert_exporter": "python",
   "pygments_lexer": "ipython3",
   "version": "3.11.13"
  }
 },
 "nbformat": 4,
 "nbformat_minor": 5
}
